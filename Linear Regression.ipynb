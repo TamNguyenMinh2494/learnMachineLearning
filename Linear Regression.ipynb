{
 "cells": [
  {
   "cell_type": "code",
   "execution_count": 5,
   "metadata": {},
   "outputs": [
    {
     "name": "stdout",
     "output_type": "stream",
     "text": [
      "conda 4.6.11\n",
      "\n",
      "Note: you may need to restart the kernel to use updated packages.\n"
     ]
    }
   ],
   "source": [
    "conda --v\n"
   ]
  },
  {
   "cell_type": "code",
   "execution_count": 6,
   "metadata": {},
   "outputs": [
    {
     "name": "stdout",
     "output_type": "stream",
     "text": [
      "hello world\n"
     ]
    }
   ],
   "source": [
    "print('hello world')"
   ]
  },
  {
   "cell_type": "code",
   "execution_count": 23,
   "metadata": {},
   "outputs": [
    {
     "name": "stdout",
     "output_type": "stream",
     "text": [
      "1\n",
      "2\n",
      "3\n",
      "4\n",
      "5\n",
      "6\n",
      "7\n",
      "8\n",
      "9\n",
      "10\n"
     ]
    }
   ],
   "source": [
    "##Loop\n",
    "\n",
    "i =1 \n",
    "while i <=10:\n",
    "    print(i)\n",
    "    i=i+1\n",
    "    "
   ]
  },
  {
   "cell_type": "code",
   "execution_count": 12,
   "metadata": {},
   "outputs": [
    {
     "ename": "ModuleNotFoundError",
     "evalue": "No module named 'tensorflow'",
     "output_type": "error",
     "traceback": [
      "\u001b[1;31m---------------------------------------------------------------------------\u001b[0m",
      "\u001b[1;31mModuleNotFoundError\u001b[0m                       Traceback (most recent call last)",
      "\u001b[1;32m<ipython-input-12-64156d691fe5>\u001b[0m in \u001b[0;36m<module>\u001b[1;34m\u001b[0m\n\u001b[1;32m----> 1\u001b[1;33m \u001b[1;32mimport\u001b[0m \u001b[0mtensorflow\u001b[0m \u001b[1;32mas\u001b[0m \u001b[0mtf\u001b[0m\u001b[1;33m\u001b[0m\u001b[1;33m\u001b[0m\u001b[0m\n\u001b[0m",
      "\u001b[1;31mModuleNotFoundError\u001b[0m: No module named 'tensorflow'"
     ]
    }
   ],
   "source": [
    "import tensorflow as tf\n"
   ]
  },
  {
   "cell_type": "code",
   "execution_count": 14,
   "metadata": {},
   "outputs": [
    {
     "name": "stdout",
     "output_type": "stream",
     "text": [
      "Requirement already satisfied: tensorflow in c:\\users\\dell\\anaconda3\\lib\\site-packages (1.13.1)\n",
      "Requirement already satisfied: protobuf>=3.6.1 in c:\\users\\dell\\anaconda3\\lib\\site-packages (from tensorflow) (3.7.1)\n",
      "Requirement already satisfied: keras-applications>=1.0.6 in c:\\users\\dell\\anaconda3\\lib\\site-packages (from tensorflow) (1.0.7)\n",
      "Requirement already satisfied: grpcio>=1.8.6 in c:\\users\\dell\\anaconda3\\lib\\site-packages (from tensorflow) (1.20.1)\n",
      "Requirement already satisfied: tensorflow-estimator<1.14.0rc0,>=1.13.0 in c:\\users\\dell\\anaconda3\\lib\\site-packages (from tensorflow) (1.13.0)\n",
      "Requirement already satisfied: tensorboard<1.14.0,>=1.13.0 in c:\\users\\dell\\anaconda3\\lib\\site-packages (from tensorflow) (1.13.1)\n",
      "Requirement already satisfied: numpy>=1.13.3 in c:\\users\\dell\\anaconda3\\lib\\site-packages (from tensorflow) (1.16.2)\n",
      "Requirement already satisfied: absl-py>=0.1.6 in c:\\users\\dell\\anaconda3\\lib\\site-packages (from tensorflow) (0.7.1)\n",
      "Requirement already satisfied: gast>=0.2.0 in c:\\users\\dell\\anaconda3\\lib\\site-packages (from tensorflow) (0.2.2)\n",
      "Requirement already satisfied: termcolor>=1.1.0 in c:\\users\\dell\\anaconda3\\lib\\site-packages (from tensorflow) (1.1.0)\n",
      "Requirement already satisfied: six>=1.10.0 in c:\\users\\dell\\anaconda3\\lib\\site-packages (from tensorflow) (1.12.0)\n",
      "Requirement already satisfied: wheel>=0.26 in c:\\users\\dell\\anaconda3\\lib\\site-packages (from tensorflow) (0.33.1)\n",
      "Requirement already satisfied: astor>=0.6.0 in c:\\users\\dell\\anaconda3\\lib\\site-packages (from tensorflow) (0.7.1)\n",
      "Requirement already satisfied: keras-preprocessing>=1.0.5 in c:\\users\\dell\\anaconda3\\lib\\site-packages (from tensorflow) (1.0.9)\n",
      "Requirement already satisfied: setuptools in c:\\users\\dell\\anaconda3\\lib\\site-packages (from protobuf>=3.6.1->tensorflow) (40.8.0)\n",
      "Requirement already satisfied: h5py in c:\\users\\dell\\anaconda3\\lib\\site-packages (from keras-applications>=1.0.6->tensorflow) (2.9.0)\n",
      "Requirement already satisfied: mock>=2.0.0 in c:\\users\\dell\\anaconda3\\lib\\site-packages (from tensorflow-estimator<1.14.0rc0,>=1.13.0->tensorflow) (2.0.0)\n",
      "Requirement already satisfied: markdown>=2.6.8 in c:\\users\\dell\\anaconda3\\lib\\site-packages (from tensorboard<1.14.0,>=1.13.0->tensorflow) (3.1)\n",
      "Requirement already satisfied: werkzeug>=0.11.15 in c:\\users\\dell\\anaconda3\\lib\\site-packages (from tensorboard<1.14.0,>=1.13.0->tensorflow) (0.14.1)\n",
      "Requirement already satisfied: pbr>=0.11 in c:\\users\\dell\\anaconda3\\lib\\site-packages (from mock>=2.0.0->tensorflow-estimator<1.14.0rc0,>=1.13.0->tensorflow) (5.2.0)\n"
     ]
    }
   ],
   "source": [
    "!pip install tensorflow"
   ]
  },
  {
   "cell_type": "code",
   "execution_count": 5,
   "metadata": {},
   "outputs": [
    {
     "name": "stdout",
     "output_type": "stream",
     "text": [
      "1.13.1\n"
     ]
    }
   ],
   "source": [
    "import tensorflow as tf\n",
    "import numpy as np\n",
    "print(tf.__version__)"
   ]
  },
  {
   "cell_type": "code",
   "execution_count": 6,
   "metadata": {},
   "outputs": [],
   "source": [
    "x_data = np.random.random([10000,2])"
   ]
  },
  {
   "cell_type": "code",
   "execution_count": 7,
   "metadata": {},
   "outputs": [],
   "source": [
    "sample_weights = np.array([3,4]).reshape(2,)"
   ]
  },
  {
   "cell_type": "code",
   "execution_count": 8,
   "metadata": {},
   "outputs": [],
   "source": [
    "y_data = np.matmul(x_data, sample_weights)"
   ]
  },
  {
   "cell_type": "code",
   "execution_count": 9,
   "metadata": {},
   "outputs": [
    {
     "data": {
      "text/plain": [
       "array([0.28476606, 0.04131455])"
      ]
     },
     "execution_count": 9,
     "metadata": {},
     "output_type": "execute_result"
    }
   ],
   "source": [
    "x_data[0]"
   ]
  },
  {
   "cell_type": "code",
   "execution_count": 10,
   "metadata": {},
   "outputs": [
    {
     "data": {
      "text/plain": [
       "1.019556375842773"
      ]
     },
     "execution_count": 10,
     "metadata": {},
     "output_type": "execute_result"
    }
   ],
   "source": [
    "y_data[0]"
   ]
  },
  {
   "cell_type": "code",
   "execution_count": 11,
   "metadata": {},
   "outputs": [
    {
     "data": {
      "text/plain": [
       "(10000,)"
      ]
     },
     "execution_count": 11,
     "metadata": {},
     "output_type": "execute_result"
    }
   ],
   "source": [
    "y_data.shape"
   ]
  },
  {
   "cell_type": "code",
   "execution_count": 12,
   "metadata": {},
   "outputs": [],
   "source": [
    "y_data = y_data.reshape(len(y_data),1)"
   ]
  },
  {
   "cell_type": "code",
   "execution_count": 13,
   "metadata": {},
   "outputs": [
    {
     "data": {
      "text/plain": [
       "array([[0.28476606, 0.04131455],\n",
       "       [0.8882141 , 0.99671583],\n",
       "       [0.45850804, 0.05705586],\n",
       "       ...,\n",
       "       [0.57825331, 0.7658498 ],\n",
       "       [0.83173203, 0.46798649],\n",
       "       [0.18313396, 0.8216063 ]])"
      ]
     },
     "execution_count": 13,
     "metadata": {},
     "output_type": "execute_result"
    }
   ],
   "source": [
    "x_data"
   ]
  },
  {
   "cell_type": "code",
   "execution_count": 14,
   "metadata": {},
   "outputs": [
    {
     "data": {
      "text/plain": [
       "array([[1.01955638],\n",
       "       [6.65150563],\n",
       "       [1.60374759],\n",
       "       ...,\n",
       "       [4.79815912],\n",
       "       [4.36714204],\n",
       "       [3.8358271 ]])"
      ]
     },
     "execution_count": 14,
     "metadata": {},
     "output_type": "execute_result"
    }
   ],
   "source": [
    "y_data"
   ]
  },
  {
   "cell_type": "code",
   "execution_count": 15,
   "metadata": {},
   "outputs": [],
   "source": [
    "from sklearn.model_selection import train_test_split\n",
    "x_train, x_test, y_train, y_test = train_test_split(x_data, y_data, test_size = 0.2, random_state = 42)"
   ]
  },
  {
   "cell_type": "code",
   "execution_count": 16,
   "metadata": {},
   "outputs": [
    {
     "data": {
      "text/plain": [
       "(8000, 2)"
      ]
     },
     "execution_count": 16,
     "metadata": {},
     "output_type": "execute_result"
    }
   ],
   "source": [
    "x_train.shape"
   ]
  },
  {
   "cell_type": "code",
   "execution_count": 17,
   "metadata": {},
   "outputs": [
    {
     "data": {
      "text/plain": [
       "(8000, 1)"
      ]
     },
     "execution_count": 17,
     "metadata": {},
     "output_type": "execute_result"
    }
   ],
   "source": [
    "y_train.shape"
   ]
  },
  {
   "cell_type": "code",
   "execution_count": 18,
   "metadata": {},
   "outputs": [
    {
     "name": "stdout",
     "output_type": "stream",
     "text": [
      "2\n"
     ]
    }
   ],
   "source": [
    "n_dim = x_train.shape[1]\n",
    "print(n_dim)"
   ]
  },
  {
   "cell_type": "code",
   "execution_count": 20,
   "metadata": {},
   "outputs": [],
   "source": [
    "# PLaceholder for pass data\n",
    "X = tf.placeholder(tf.float32, [None, n_dim])\n",
    "Y = tf.placeholder(tf.float32, [None, 1])"
   ]
  },
  {
   "cell_type": "code",
   "execution_count": 23,
   "metadata": {},
   "outputs": [],
   "source": [
    "# Trainable weights\n",
    "W = tf.Variable(tf.ones([n_dim, 1]))\n",
    "b = tf.Variable(np.random.randn(), dtype = tf.float32)"
   ]
  },
  {
   "cell_type": "code",
   "execution_count": 25,
   "metadata": {},
   "outputs": [],
   "source": [
    "#Yi = Bo + B1*Xi + Ei\n",
    "pred = tf.add(tf.matmul(X, W), b) \n",
    "#pre means predict, and pred function is calculate for Yi"
   ]
  },
  {
   "cell_type": "code",
   "execution_count": 27,
   "metadata": {},
   "outputs": [],
   "source": [
    "#Use MSE to calculate loss function. MSE = 1/n * (Yi - Y~i)^2\n",
    "#Y~i: this is real value\n",
    "loss = tf.reduce_mean(tf.square(pred - Y))\n",
    "learning_rate = 0.01\n",
    "optimizer = tf.train.GradientDescentOptimizer(learning_rate = learning_rate).minimize(loss)"
   ]
  },
  {
   "cell_type": "code",
   "execution_count": 29,
   "metadata": {},
   "outputs": [],
   "source": [
    "init = tf.global_variables_initializer()\n"
   ]
  },
  {
   "cell_type": "code",
   "execution_count": 31,
   "metadata": {},
   "outputs": [],
   "source": [
    "sess = tf.Session()"
   ]
  },
  {
   "cell_type": "code",
   "execution_count": 43,
   "metadata": {},
   "outputs": [
    {
     "name": "stdout",
     "output_type": "stream",
     "text": [
      "Epoch 0 Test loss = 12.185394287109375\n",
      "Epoch 100 Test loss = 0.28953003883361816\n",
      "Epoch 200 Test loss = 0.2072717249393463\n",
      "Epoch 300 Test loss = 0.16536904871463776\n",
      "Epoch 400 Test loss = 0.1322597712278366\n",
      "Epoch 500 Test loss = 0.10589864104986191\n",
      "Epoch 600 Test loss = 0.08487389981746674\n",
      "Epoch 700 Test loss = 0.06808217614889145\n",
      "Epoch 800 Test loss = 0.05465488135814667\n",
      "Epoch 900 Test loss = 0.043906085193157196\n",
      "Epoch 1000 Test loss = 0.03529282286763191\n",
      "Epoch 1100 Test loss = 0.028384888544678688\n",
      "Epoch 1200 Test loss = 0.02284012921154499\n",
      "Epoch 1300 Test loss = 0.018386447802186012\n",
      "Epoch 1400 Test loss = 0.01480695977807045\n",
      "Epoch 1500 Test loss = 0.011928369291126728\n",
      "Epoch 1600 Test loss = 0.009612292982637882\n",
      "Epoch 1700 Test loss = 0.00774803664535284\n",
      "Epoch 1800 Test loss = 0.0062468042597174644\n",
      "Epoch 1900 Test loss = 0.005037509836256504\n",
      "Epoch 2000 Test loss = 0.0040630437433719635\n",
      "Epoch 2100 Test loss = 0.003277645679190755\n",
      "Epoch 2200 Test loss = 0.0026444524992257357\n",
      "Epoch 2300 Test loss = 0.002133856760337949\n",
      "Epoch 2400 Test loss = 0.0017220425652340055\n",
      "Epoch 2500 Test loss = 0.00138984271325171\n",
      "Epoch 2600 Test loss = 0.001121819019317627\n",
      "Epoch 2700 Test loss = 0.0009055660339072347\n",
      "Epoch 2800 Test loss = 0.0007310431101359427\n",
      "Epoch 2900 Test loss = 0.000590188370551914\n",
      "Epoch 3000 Test loss = 0.0004765034536831081\n",
      "Epoch 3100 Test loss = 0.00038473258609883487\n",
      "Epoch 3200 Test loss = 0.0003106515505351126\n",
      "Epoch 3300 Test loss = 0.0002508446341380477\n",
      "Epoch 3400 Test loss = 0.00020255299750715494\n",
      "Epoch 3500 Test loss = 0.00016357081767637283\n",
      "Epoch 3600 Test loss = 0.00013208974269218743\n",
      "Epoch 3700 Test loss = 0.00010667236347217113\n",
      "Epoch 3800 Test loss = 8.61468943185173e-05\n",
      "Epoch 3900 Test loss = 6.957178993616253e-05\n",
      "Epoch 4000 Test loss = 5.618774957838468e-05\n",
      "Epoch 4100 Test loss = 4.537773929769173e-05\n",
      "Epoch 4200 Test loss = 3.664907853817567e-05\n",
      "Epoch 4300 Test loss = 2.9599543267977424e-05\n",
      "Epoch 4400 Test loss = 2.3906677597551607e-05\n",
      "Epoch 4500 Test loss = 1.9308214177726768e-05\n",
      "Epoch 4600 Test loss = 1.5594860087730922e-05\n",
      "Epoch 4700 Test loss = 1.2595115549629554e-05\n",
      "Epoch 4800 Test loss = 1.0174087947234511e-05\n",
      "Epoch 4900 Test loss = 8.2177939475514e-06\n",
      "Epoch 5000 Test loss = 6.638201284658862e-06\n",
      "Epoch 5100 Test loss = 5.362072442949284e-06\n",
      "Epoch 5200 Test loss = 4.330552656028885e-06\n",
      "Epoch 5300 Test loss = 3.498736305118655e-06\n",
      "Epoch 5400 Test loss = 2.826136096700793e-06\n",
      "Epoch 5500 Test loss = 2.2833010007161647e-06\n",
      "Epoch 5600 Test loss = 1.844521193561377e-06\n",
      "Epoch 5700 Test loss = 1.4906835303918342e-06\n",
      "Epoch 5800 Test loss = 1.2039350849590846e-06\n",
      "Epoch 5900 Test loss = 9.735443882163963e-07\n",
      "Epoch 6000 Test loss = 7.86898283422488e-07\n",
      "Epoch 6100 Test loss = 6.357797133205167e-07\n",
      "Epoch 6200 Test loss = 5.134789944349905e-07\n",
      "Epoch 6300 Test loss = 4.1559320607120753e-07\n",
      "Epoch 6400 Test loss = 3.3554101719346363e-07\n",
      "Epoch 6500 Test loss = 2.7121166112920037e-07\n",
      "Epoch 6600 Test loss = 2.199964370674934e-07\n",
      "Epoch 6700 Test loss = 1.7742785018981522e-07\n",
      "Epoch 6800 Test loss = 1.4432086459237325e-07\n",
      "Epoch 6900 Test loss = 1.1636414143367801e-07\n",
      "Epoch 7000 Test loss = 9.44147586778854e-08\n",
      "Epoch 7100 Test loss = 7.723786410451794e-08\n",
      "Epoch 7200 Test loss = 6.194626678279747e-08\n",
      "Epoch 7300 Test loss = 5.01425603260941e-08\n",
      "Epoch 7400 Test loss = 4.158099287110417e-08\n",
      "Epoch 7500 Test loss = 3.3976451874195845e-08\n",
      "Epoch 7600 Test loss = 2.7251440215536604e-08\n",
      "Epoch 7700 Test loss = 2.1439820585555935e-08\n",
      "Epoch 7800 Test loss = 1.7518352990464336e-08\n",
      "Epoch 7900 Test loss = 1.4771869061291909e-08\n",
      "Epoch 8000 Test loss = 1.2472719745915128e-08\n",
      "Epoch 8100 Test loss = 1.0403540251502363e-08\n",
      "Epoch 8200 Test loss = 8.532164308405754e-09\n",
      "Epoch 8300 Test loss = 6.852930223288922e-09\n",
      "Epoch 8400 Test loss = 5.3354587414844445e-09\n",
      "Epoch 8500 Test loss = 4.033529066305164e-09\n",
      "Epoch 8600 Test loss = 3.0306477327712855e-09\n",
      "Epoch 8700 Test loss = 2.3800958981468057e-09\n",
      "Epoch 8800 Test loss = 1.9442130128055624e-09\n",
      "Epoch 8900 Test loss = 1.652325387624387e-09\n",
      "Epoch 9000 Test loss = 1.4395472591743896e-09\n",
      "Epoch 9100 Test loss = 1.284728434747251e-09\n",
      "Epoch 9200 Test loss = 1.1822439693887077e-09\n",
      "Epoch 9300 Test loss = 1.1038808755969853e-09\n",
      "Epoch 9400 Test loss = 1.0519305426726078e-09\n",
      "Epoch 9500 Test loss = 1.0137437556068107e-09\n",
      "Epoch 9600 Test loss = 9.819798307830752e-10\n",
      "Epoch 9700 Test loss = 9.58303436604524e-10\n",
      "Epoch 9800 Test loss = 9.33349841858444e-10\n",
      "Epoch 9900 Test loss = 9.278738333229342e-10\n"
     ]
    }
   ],
   "source": [
    "#Training\n",
    "sess.run(init)\n",
    "epochs = 10000\n",
    "loss_history = []\n",
    "\n",
    "for epoch in range(epochs):\n",
    "    sess.run(optimizer, feed_dict = {X: x_train, Y: y_train})\n",
    "    test_loss = sess.run(loss, feed_dict={X: x_test, Y: y_test})\n",
    "    loss_history.append(test_loss)\n",
    "    if epoch % 100 == 0:\n",
    "        print(\"Epoch {} Test loss = {}\".format(epoch, test_loss))"
   ]
  },
  {
   "cell_type": "code",
   "execution_count": 44,
   "metadata": {},
   "outputs": [
    {
     "data": {
      "text/plain": [
       "array([[2.9999268],\n",
       "       [3.9999254]], dtype=float32)"
      ]
     },
     "execution_count": 44,
     "metadata": {},
     "output_type": "execute_result"
    }
   ],
   "source": [
    "sess.run(W)"
   ]
  },
  {
   "cell_type": "code",
   "execution_count": 45,
   "metadata": {},
   "outputs": [
    {
     "data": {
      "text/plain": [
       "7.359367e-05"
      ]
     },
     "execution_count": 45,
     "metadata": {},
     "output_type": "execute_result"
    }
   ],
   "source": [
    "sess.run(b)"
   ]
  },
  {
   "cell_type": "code",
   "execution_count": 46,
   "metadata": {
    "scrolled": false
   },
   "outputs": [
    {
     "data": {
      "image/png": "[encoded data removed]",
      "text/plain": [
       "<Figure size 432x288 with 1 Axes>"
      ]
     },
     "metadata": {
      "needs_background": "light"
     },
     "output_type": "display_data"
    }
   ],
   "source": [
    "import matplotlib.pyplot as plt\n",
    "plt.plot(range(len(loss_history)), loss_history)\n",
    "plt.axis([0, epochs, 0, np.max(loss_history)])\n",
    "plt.show()"
   ]
  },
  {
   "cell_type": "code",
   "execution_count": null,
   "metadata": {},
   "outputs": [],
   "source": []
  },
  {
   "cell_type": "code",
   "execution_count": 47,
   "metadata": {},
   "outputs": [
    {
     "name": "stdout",
     "output_type": "stream",
     "text": [
      "[[17.999704]]\n"
     ]
    }
   ],
   "source": [
    "#check again test data\n",
    "pred_y = sess.run(pred, feed_dict={\n",
    "    X:[[2,3]]\n",
    "})\n",
    "print(pred_y)"
   ]
  }
 ],
 "metadata": {
  "kernelspec": {
   "display_name": "Python 3",
   "language": "python",
   "name": "python3"
  },
  "language_info": {
   "codemirror_mode": {
    "name": "ipython",
    "version": 3
   },
   "file_extension": ".py",
   "mimetype": "text/x-python",
   "name": "python",
   "nbconvert_exporter": "python",
   "pygments_lexer": "ipython3",
   "version": "3.7.3"
  }
 },
 "nbformat": 4,
 "nbformat_minor": 2
}
