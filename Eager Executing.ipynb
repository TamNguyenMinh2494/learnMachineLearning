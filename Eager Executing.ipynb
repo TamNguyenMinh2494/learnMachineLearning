{
 "cells": [
  {
   "cell_type": "code",
   "execution_count": 1,
   "metadata": {},
   "outputs": [],
   "source": [
    "import tensorflow as tf"
   ]
  },
  {
   "cell_type": "code",
   "execution_count": 2,
   "metadata": {},
   "outputs": [
    {
     "name": "stdout",
     "output_type": "stream",
     "text": [
      "1.13.1\n"
     ]
    }
   ],
   "source": [
    "print(tf.__version__)"
   ]
  },
  {
   "cell_type": "code",
   "execution_count": 3,
   "metadata": {},
   "outputs": [],
   "source": [
    "from __future__ import absolute_import, division, print_function\n",
    "tf.enable_eager_execution()"
   ]
  },
  {
   "cell_type": "code",
   "execution_count": 4,
   "metadata": {},
   "outputs": [
    {
     "data": {
      "text/plain": [
       "True"
      ]
     },
     "execution_count": 4,
     "metadata": {},
     "output_type": "execute_result"
    }
   ],
   "source": [
    "tf.executing_eagerly()"
   ]
  },
  {
   "cell_type": "code",
   "execution_count": 5,
   "metadata": {},
   "outputs": [],
   "source": [
    "x = [[2.]]"
   ]
  },
  {
   "cell_type": "code",
   "execution_count": 6,
   "metadata": {},
   "outputs": [],
   "source": [
    "m = tf.matmul(x,x)"
   ]
  },
  {
   "cell_type": "code",
   "execution_count": 7,
   "metadata": {},
   "outputs": [
    {
     "data": {
      "text/plain": [
       "<tf.Tensor: id=2, shape=(1, 1), dtype=float32, numpy=array([[4.]], dtype=float32)>"
      ]
     },
     "execution_count": 7,
     "metadata": {},
     "output_type": "execute_result"
    }
   ],
   "source": [
    "m"
   ]
  },
  {
   "cell_type": "code",
   "execution_count": 8,
   "metadata": {},
   "outputs": [],
   "source": [
    "import numpy as np\n",
    "x_data = np.random.random((10000,2))"
   ]
  },
  {
   "cell_type": "code",
   "execution_count": 9,
   "metadata": {},
   "outputs": [
    {
     "data": {
      "text/plain": [
       "array([[0.91121492, 0.24328611],\n",
       "       [0.98441859, 0.00327059],\n",
       "       [0.57609218, 0.77304134],\n",
       "       ...,\n",
       "       [0.0236402 , 0.83380993],\n",
       "       [0.58024108, 0.47693426],\n",
       "       [0.5370973 , 0.59551876]])"
      ]
     },
     "execution_count": 9,
     "metadata": {},
     "output_type": "execute_result"
    }
   ],
   "source": [
    "x_data"
   ]
  },
  {
   "cell_type": "code",
   "execution_count": 10,
   "metadata": {},
   "outputs": [],
   "source": [
    "sample_weight = np.array([[3,4]])"
   ]
  },
  {
   "cell_type": "code",
   "execution_count": 11,
   "metadata": {},
   "outputs": [
    {
     "data": {
      "text/plain": [
       "array([[3, 4]])"
      ]
     },
     "execution_count": 11,
     "metadata": {},
     "output_type": "execute_result"
    }
   ],
   "source": [
    "sample_weight\n"
   ]
  },
  {
   "cell_type": "code",
   "execution_count": 12,
   "metadata": {},
   "outputs": [],
   "source": [
    "y_data = np.matmul(x_data, sample_weight.transpose())"
   ]
  },
  {
   "cell_type": "code",
   "execution_count": 13,
   "metadata": {},
   "outputs": [
    {
     "data": {
      "text/plain": [
       "array([[3.70678921],\n",
       "       [2.96633815],\n",
       "       [4.8204419 ],\n",
       "       ...,\n",
       "       [3.4061603 ],\n",
       "       [3.64846026],\n",
       "       [3.99336695]])"
      ]
     },
     "execution_count": 13,
     "metadata": {},
     "output_type": "execute_result"
    }
   ],
   "source": [
    "y_data\n"
   ]
  },
  {
   "cell_type": "code",
   "execution_count": 14,
   "metadata": {},
   "outputs": [],
   "source": [
    "y_data = np.add(y_data, np.random.uniform(-0.5,0.5))"
   ]
  },
  {
   "cell_type": "code",
   "execution_count": 15,
   "metadata": {},
   "outputs": [
    {
     "data": {
      "text/plain": [
       "array([[3.21266677],\n",
       "       [2.47221571],\n",
       "       [4.32631946],\n",
       "       ...,\n",
       "       [2.91203786],\n",
       "       [3.15433782],\n",
       "       [3.49924451]])"
      ]
     },
     "execution_count": 15,
     "metadata": {},
     "output_type": "execute_result"
    }
   ],
   "source": [
    "y_data"
   ]
  },
  {
   "cell_type": "code",
   "execution_count": 16,
   "metadata": {},
   "outputs": [],
   "source": [
    "from sklearn.model_selection import train_test_split\n",
    "x_train, x_test, y_train, y_test = train_test_split(x_data, y_data, test_size = 0.2)"
   ]
  },
  {
   "cell_type": "code",
   "execution_count": 17,
   "metadata": {},
   "outputs": [
    {
     "data": {
      "text/plain": [
       "array([[0.08688451, 0.64009202],\n",
       "       [0.67139484, 0.76129609],\n",
       "       [0.73437102, 0.26068576],\n",
       "       ...,\n",
       "       [0.09650186, 0.88328875],\n",
       "       [0.83833181, 0.96451099],\n",
       "       [0.6292761 , 0.84239532]])"
      ]
     },
     "execution_count": 17,
     "metadata": {},
     "output_type": "execute_result"
    }
   ],
   "source": [
    "x_train\n"
   ]
  },
  {
   "cell_type": "code",
   "execution_count": 18,
   "metadata": {},
   "outputs": [
    {
     "name": "stdout",
     "output_type": "stream",
     "text": [
      "\n",
      "WARNING: The TensorFlow contrib module will not be included in TensorFlow 2.0.\n",
      "For more information, please see:\n",
      "  * https://github.com/tensorflow/community/blob/master/rfcs/20180907-contrib-sunset.md\n",
      "  * https://github.com/tensorflow/addons\n",
      "If you depend on functionality not listed there, please file an issue.\n",
      "\n"
     ]
    }
   ],
   "source": [
    "#Sử dụng thư viện để khai báo các biến cần thiết sử dụng trong quá trình training\n",
    "tfe = tf.contrib.eager"
   ]
  },
  {
   "cell_type": "code",
   "execution_count": 19,
   "metadata": {},
   "outputs": [],
   "source": [
    "# Khai báo biến\n",
    "W = tfe.Variable([[1.0, 1.0]])\n",
    "b = tfe.Variable(np.random.uniform(-0.2,0.2))"
   ]
  },
  {
   "cell_type": "code",
   "execution_count": 20,
   "metadata": {},
   "outputs": [],
   "source": [
    "# Linear Regression definition\n",
    "def linear_regression(inputs):\n",
    "    return tf.matmul(inputs, W, transpose_b = True)\n",
    "# Loss function - Mean square error\n",
    "\n",
    "def loss_function(model_fn, inputs, labels):\n",
    "    return tf.reduce_mean(tf.square(model_fn(inputs) -labels))"
   ]
  },
  {
   "cell_type": "code",
   "execution_count": 21,
   "metadata": {},
   "outputs": [],
   "source": [
    "#Parameters\n",
    "learning_rate = 0.005\n",
    "num_steps = 10000"
   ]
  },
  {
   "cell_type": "code",
   "execution_count": 22,
   "metadata": {},
   "outputs": [],
   "source": [
    "#Optimizer\n",
    "\n",
    "optimizer = tf.train.GradientDescentOptimizer(learning_rate = learning_rate)\n",
    "\n",
    "#Tính đạo hàm của loss function\n",
    "\n",
    "grad = tfe.implicit_gradients(loss_function)"
   ]
  },
  {
   "cell_type": "code",
   "execution_count": 23,
   "metadata": {},
   "outputs": [
    {
     "name": "stdout",
     "output_type": "stream",
     "text": [
      "WARNING:tensorflow:From C:\\Users\\DELL\\Anaconda3\\lib\\site-packages\\tensorflow\\python\\training\\optimizer.py:611: colocate_with (from tensorflow.python.framework.ops) is deprecated and will be removed in a future version.\n",
      "Instructions for updating:\n",
      "Colocations handled automatically by placer.\n",
      "Step: 0 \t Train_loss: 5.028865337371826 \t Test_loss: 4.996809482574463\n",
      "Step: 100 \t Train_loss: 1.6097673177719116 \t Test_loss: 1.600975513458252\n",
      "Step: 200 \t Train_loss: 0.543512225151062 \t Test_loss: 0.5428509712219238\n",
      "Step: 300 \t Train_loss: 0.20914486050605774 \t Test_loss: 0.2113669514656067\n",
      "Step: 400 \t Train_loss: 0.10272368043661118 \t Test_loss: 0.10593034327030182\n",
      "Step: 500 \t Train_loss: 0.06753509491682053 \t Test_loss: 0.07100927829742432\n",
      "Step: 600 \t Train_loss: 0.05480904504656792 \t Test_loss: 0.05827154591679573\n",
      "Step: 700 \t Train_loss: 0.04933663457632065 \t Test_loss: 0.05267968401312828\n",
      "Step: 800 \t Train_loss: 0.04634925723075867 \t Test_loss: 0.049535490572452545\n",
      "Step: 900 \t Train_loss: 0.04432959854602814 \t Test_loss: 0.04735157638788223\n",
      "Step: 1000 \t Train_loss: 0.04277646169066429 \t Test_loss: 0.04563941806554794\n",
      "Step: 1100 \t Train_loss: 0.041508834809064865 \t Test_loss: 0.0442231222987175\n",
      "Step: 1200 \t Train_loss: 0.0404491201043129 \t Test_loss: 0.04302671179175377\n",
      "Step: 1300 \t Train_loss: 0.03955515846610069 \t Test_loss: 0.04200810194015503\n",
      "Step: 1400 \t Train_loss: 0.03879839926958084 \t Test_loss: 0.04113814979791641\n",
      "Step: 1500 \t Train_loss: 0.038157057017087936 \t Test_loss: 0.0403941348195076\n",
      "Step: 1600 \t Train_loss: 0.03761320561170578 \t Test_loss: 0.039757244288921356\n",
      "Step: 1700 \t Train_loss: 0.03715196251869202 \t Test_loss: 0.03921165317296982\n",
      "Step: 1800 \t Train_loss: 0.036760758608579636 \t Test_loss: 0.03874395042657852\n",
      "Step: 1900 \t Train_loss: 0.036428969353437424 \t Test_loss: 0.038342736661434174\n",
      "Step: 2000 \t Train_loss: 0.036147575825452805 \t Test_loss: 0.0379982590675354\n",
      "Step: 2100 \t Train_loss: 0.03590890392661095 \t Test_loss: 0.03770223259925842\n",
      "Step: 2200 \t Train_loss: 0.03570646792650223 \t Test_loss: 0.037447623908519745\n",
      "Step: 2300 \t Train_loss: 0.03553475812077522 \t Test_loss: 0.03722839429974556\n",
      "Step: 2400 \t Train_loss: 0.03538912907242775 \t Test_loss: 0.03703945130109787\n",
      "Step: 2500 \t Train_loss: 0.03526563197374344 \t Test_loss: 0.036876432597637177\n",
      "Step: 2600 \t Train_loss: 0.035160865634679794 \t Test_loss: 0.03673562407493591\n",
      "Step: 2700 \t Train_loss: 0.035071998834609985 \t Test_loss: 0.036613840609788895\n",
      "Step: 2800 \t Train_loss: 0.034996647387742996 \t Test_loss: 0.03650839999318123\n",
      "Step: 2900 \t Train_loss: 0.03493272513151169 \t Test_loss: 0.03641698509454727\n",
      "Step: 3000 \t Train_loss: 0.03487851098179817 \t Test_loss: 0.036337606608867645\n",
      "Step: 3100 \t Train_loss: 0.03483252599835396 \t Test_loss: 0.03626859933137894\n",
      "Step: 3200 \t Train_loss: 0.03479352593421936 \t Test_loss: 0.03620851784944534\n",
      "Step: 3300 \t Train_loss: 0.034760456532239914 \t Test_loss: 0.036156125366687775\n",
      "Step: 3400 \t Train_loss: 0.034732386469841 \t Test_loss: 0.03611036762595177\n",
      "Step: 3500 \t Train_loss: 0.03470860421657562 \t Test_loss: 0.03607034310698509\n",
      "Step: 3600 \t Train_loss: 0.034688424319028854 \t Test_loss: 0.03603528439998627\n",
      "Step: 3700 \t Train_loss: 0.03467129170894623 \t Test_loss: 0.03600451350212097\n",
      "Step: 3800 \t Train_loss: 0.03465677797794342 \t Test_loss: 0.03597747161984444\n",
      "Step: 3900 \t Train_loss: 0.03464445471763611 \t Test_loss: 0.03595365956425667\n",
      "Step: 4000 \t Train_loss: 0.03463401645421982 \t Test_loss: 0.03593265637755394\n",
      "Step: 4100 \t Train_loss: 0.03462516888976097 \t Test_loss: 0.0359141044318676\n",
      "Step: 4200 \t Train_loss: 0.03461763635277748 \t Test_loss: 0.03589769825339317\n",
      "Step: 4300 \t Train_loss: 0.03461127728223801 \t Test_loss: 0.035883139818906784\n",
      "Step: 4400 \t Train_loss: 0.03460587188601494 \t Test_loss: 0.03587022051215172\n",
      "Step: 4500 \t Train_loss: 0.03460128232836723 \t Test_loss: 0.03585873544216156\n",
      "Step: 4600 \t Train_loss: 0.03459739312529564 \t Test_loss: 0.035848479717969894\n",
      "Step: 4700 \t Train_loss: 0.0345940999686718 \t Test_loss: 0.03583936393260956\n",
      "Step: 4800 \t Train_loss: 0.03459130600094795 \t Test_loss: 0.03583119064569473\n",
      "Step: 4900 \t Train_loss: 0.034588929265737534 \t Test_loss: 0.035823892802000046\n",
      "Step: 5000 \t Train_loss: 0.03458692133426666 \t Test_loss: 0.03581733629107475\n",
      "Step: 5100 \t Train_loss: 0.03458520025014877 \t Test_loss: 0.03581145405769348\n",
      "Step: 5200 \t Train_loss: 0.034583769738674164 \t Test_loss: 0.03580617532134056\n",
      "Step: 5300 \t Train_loss: 0.03458254411816597 \t Test_loss: 0.03580140694975853\n",
      "Step: 5400 \t Train_loss: 0.034581489861011505 \t Test_loss: 0.0357971154153347\n",
      "Step: 5500 \t Train_loss: 0.03458061069250107 \t Test_loss: 0.0357932522892952\n",
      "Step: 5600 \t Train_loss: 0.03457987308502197 \t Test_loss: 0.035789743065834045\n",
      "Step: 5700 \t Train_loss: 0.034579236060380936 \t Test_loss: 0.03578658774495125\n",
      "Step: 5800 \t Train_loss: 0.034578680992126465 \t Test_loss: 0.03578372299671173\n",
      "Step: 5900 \t Train_loss: 0.034578222781419754 \t Test_loss: 0.03578110411763191\n",
      "Step: 6000 \t Train_loss: 0.03457784280180931 \t Test_loss: 0.035778746008872986\n",
      "Step: 6100 \t Train_loss: 0.03457752615213394 \t Test_loss: 0.03577659651637077\n",
      "Step: 6200 \t Train_loss: 0.03457723185420036 \t Test_loss: 0.035774651914834976\n",
      "Step: 6300 \t Train_loss: 0.03457700088620186 \t Test_loss: 0.035772886127233505\n",
      "Step: 6400 \t Train_loss: 0.03457679972052574 \t Test_loss: 0.03577127680182457\n",
      "Step: 6500 \t Train_loss: 0.034576620906591415 \t Test_loss: 0.03576979041099548\n",
      "Step: 6600 \t Train_loss: 0.034576475620269775 \t Test_loss: 0.03576844185590744\n",
      "Step: 6700 \t Train_loss: 0.034576356410980225 \t Test_loss: 0.03576723113656044\n",
      "Step: 6800 \t Train_loss: 0.03457626327872276 \t Test_loss: 0.03576607629656792\n",
      "Step: 6900 \t Train_loss: 0.034576162695884705 \t Test_loss: 0.035765089094638824\n",
      "Step: 7000 \t Train_loss: 0.034576091915369034 \t Test_loss: 0.03576411306858063\n",
      "Step: 7100 \t Train_loss: 0.034576039761304855 \t Test_loss: 0.035763297230005264\n",
      "Step: 7200 \t Train_loss: 0.03457597270607948 \t Test_loss: 0.035762492567300797\n",
      "Step: 7300 \t Train_loss: 0.0345759317278862 \t Test_loss: 0.035761792212724686\n",
      "Step: 7400 \t Train_loss: 0.034575898200273514 \t Test_loss: 0.035761140286922455\n",
      "Step: 7500 \t Train_loss: 0.034575849771499634 \t Test_loss: 0.035760506987571716\n",
      "Step: 7600 \t Train_loss: 0.03457583114504814 \t Test_loss: 0.03575996309518814\n",
      "Step: 7700 \t Train_loss: 0.03457581251859665 \t Test_loss: 0.035759489983320236\n",
      "Step: 7800 \t Train_loss: 0.03457578644156456 \t Test_loss: 0.03575901687145233\n",
      "Step: 7900 \t Train_loss: 0.03457576781511307 \t Test_loss: 0.03575854375958443\n",
      "Step: 8000 \t Train_loss: 0.03457575663924217 \t Test_loss: 0.03575814887881279\n",
      "Step: 8100 \t Train_loss: 0.03457574173808098 \t Test_loss: 0.03575783967971802\n",
      "Step: 8200 \t Train_loss: 0.03457573428750038 \t Test_loss: 0.035757530480623245\n",
      "Step: 8300 \t Train_loss: 0.03457571566104889 \t Test_loss: 0.03575722500681877\n",
      "Step: 8400 \t Train_loss: 0.03457571193575859 \t Test_loss: 0.0357569195330143\n",
      "Step: 8500 \t Train_loss: 0.03457570821046829 \t Test_loss: 0.035756610333919525\n",
      "Step: 8600 \t Train_loss: 0.0345756933093071 \t Test_loss: 0.03575635701417923\n",
      "Step: 8700 \t Train_loss: 0.034575704485177994 \t Test_loss: 0.03575620427727699\n",
      "Step: 8800 \t Train_loss: 0.0345756895840168 \t Test_loss: 0.035756051540374756\n",
      "Step: 8900 \t Train_loss: 0.0345756970345974 \t Test_loss: 0.03575590252876282\n",
      "Step: 9000 \t Train_loss: 0.0345756970345974 \t Test_loss: 0.03575574606657028\n",
      "Step: 9100 \t Train_loss: 0.0345756895840168 \t Test_loss: 0.03575560078024864\n",
      "Step: 9200 \t Train_loss: 0.0345756858587265 \t Test_loss: 0.035755448043346405\n",
      "Step: 9300 \t Train_loss: 0.0345756821334362 \t Test_loss: 0.035755280405282974\n",
      "Step: 9400 \t Train_loss: 0.0345756821334362 \t Test_loss: 0.035755131393671036\n",
      "Step: 9500 \t Train_loss: 0.0345756821334362 \t Test_loss: 0.035754989832639694\n",
      "Step: 9600 \t Train_loss: 0.03457566723227501 \t Test_loss: 0.035754840821027756\n",
      "Step: 9700 \t Train_loss: 0.034575674682855606 \t Test_loss: 0.03575468063354492\n",
      "Step: 9800 \t Train_loss: 0.03457567095756531 \t Test_loss: 0.03575456142425537\n",
      "Step: 9900 \t Train_loss: 0.03457567095756531 \t Test_loss: 0.03575456142425537\n"
     ]
    }
   ],
   "source": [
    "for step in range(num_steps):\n",
    "    optimizer.apply_gradients(grad(linear_regression, np.float32(x_train) ,  np.float32(y_train)))\n",
    "    if step % 100 == 0:\n",
    "        train_loss = loss_function(linear_regression, np.float32(x_train) ,  np.float32(y_train))\n",
    "        test_loss = loss_function(linear_regression, np.float32(x_test) ,  np.float32(y_test))\n",
    "        print(\"Step: {} \\t Train_loss: {} \\t Test_loss: {}\".format(step, train_loss, test_loss))"
   ]
  },
  {
   "cell_type": "code",
   "execution_count": 24,
   "metadata": {},
   "outputs": [
    {
     "data": {
      "text/plain": [
       "0.0658176"
      ]
     },
     "execution_count": 24,
     "metadata": {},
     "output_type": "execute_result"
    }
   ],
   "source": [
    "W\n",
    "b.numpy()"
   ]
  },
  {
   "cell_type": "code",
   "execution_count": 25,
   "metadata": {},
   "outputs": [],
   "source": [
    "y_pred = linear_regression(np.float32(x_test))"
   ]
  },
  {
   "cell_type": "code",
   "execution_count": 26,
   "metadata": {},
   "outputs": [
    {
     "data": {
      "text/plain": [
       "<tf.Tensor: id=221824, shape=(2000, 1), dtype=float32, numpy=\n",
       "array([[1.1924907],\n",
       "       [3.8586187],\n",
       "       [1.1689467],\n",
       "       ...,\n",
       "       [3.966784 ],\n",
       "       [1.4507015],\n",
       "       [1.6788173]], dtype=float32)>"
      ]
     },
     "execution_count": 26,
     "metadata": {},
     "output_type": "execute_result"
    }
   ],
   "source": [
    "y_pred"
   ]
  },
  {
   "cell_type": "code",
   "execution_count": 27,
   "metadata": {},
   "outputs": [
    {
     "data": {
      "text/plain": [
       "array([[0.88156913],\n",
       "       [3.8987363 ],\n",
       "       [0.825067  ],\n",
       "       ...,\n",
       "       [4.04156534],\n",
       "       [1.1347271 ],\n",
       "       [1.43626886]])"
      ]
     },
     "execution_count": 27,
     "metadata": {},
     "output_type": "execute_result"
    }
   ],
   "source": [
    "y_test"
   ]
  },
  {
   "cell_type": "code",
   "execution_count": 28,
   "metadata": {},
   "outputs": [],
   "source": [
    "import matplotlib.pyplot as plt \n"
   ]
  },
  {
   "cell_type": "code",
   "execution_count": 29,
   "metadata": {},
   "outputs": [
    {
     "data": {
      "text/plain": [
       "[<matplotlib.lines.Line2D at 0x1a92b285048>]"
      ]
     },
     "execution_count": 29,
     "metadata": {},
     "output_type": "execute_result"
    },
    {
     "data": {
      "image/png": "[encoded data removed]",
      "text/plain": [
       "<Figure size 432x288 with 1 Axes>"
      ]
     },
     "metadata": {
      "needs_background": "light"
     },
     "output_type": "display_data"
    }
   ],
   "source": [
    "plt.plot(range(len(y_test)), y_test, 'bo')"
   ]
  },
  {
   "cell_type": "code",
   "execution_count": 30,
   "metadata": {},
   "outputs": [
    {
     "data": {
      "text/plain": [
       "[<matplotlib.lines.Line2D at 0x1a92b31bcc0>]"
      ]
     },
     "execution_count": 30,
     "metadata": {},
     "output_type": "execute_result"
    },
    {
     "data": {
      "image/png": "[encoded data removed]",
      "text/plain": [
       "<Figure size 432x288 with 1 Axes>"
      ]
     },
     "metadata": {
      "needs_background": "light"
     },
     "output_type": "display_data"
    }
   ],
   "source": [
    "plt.plot(range(len(y_pred.numpy())), y_pred.numpy(), 'ro')"
   ]
  }
 ],
 "metadata": {
  "kernelspec": {
   "display_name": "Python 3",
   "language": "python",
   "name": "python3"
  },
  "language_info": {
   "codemirror_mode": {
    "name": "ipython",
    "version": 3
   },
   "file_extension": ".py",
   "mimetype": "text/x-python",
   "name": "python",
   "nbconvert_exporter": "python",
   "pygments_lexer": "ipython3",
   "version": "3.7.3"
  }
 },
 "nbformat": 4,
 "nbformat_minor": 2
}
